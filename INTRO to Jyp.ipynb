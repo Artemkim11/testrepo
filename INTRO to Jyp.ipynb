{
 "cells": [
  {
   "cell_type": "code",
   "execution_count": 1,
   "id": "bb78233a-5efe-4223-945a-cc2b97a945a4",
   "metadata": {},
   "outputs": [
    {
     "data": {
      "text/plain": [
       "3"
      ]
     },
     "execution_count": 1,
     "metadata": {},
     "output_type": "execute_result"
    }
   ],
   "source": [
    "one = 1\n",
    "two = 2\n",
    "one + two"
   ]
  },
  {
   "cell_type": "markdown",
   "id": "4ce74085-4f77-4771-9bfb-c3a5ba1f4791",
   "metadata": {},
   "source": [
    "## Testing the Jupyter"
   ]
  },
  {
   "cell_type": "code",
   "execution_count": null,
   "id": "fa1b01a6-9aa1-4b7b-8fa5-8274e6171463",
   "metadata": {},
   "outputs": [],
   "source": []
  },
  {
   "cell_type": "code",
   "execution_count": null,
   "id": "d236089d-4e0e-4515-b51c-edae01a45b18",
   "metadata": {},
   "outputs": [],
   "source": []
  },
  {
   "cell_type": "code",
   "execution_count": null,
   "id": "78f8f5bd-a74a-4e09-a0c0-eae6a97a9ef2",
   "metadata": {
    "tags": []
   },
   "outputs": [],
   "source": []
  },
  {
   "cell_type": "code",
   "execution_count": null,
   "id": "2f72bd58-55d3-47f9-b447-fa63ecfedd9c",
   "metadata": {},
   "outputs": [],
   "source": []
  },
  {
   "cell_type": "code",
   "execution_count": null,
   "id": "a3c6707e-4cb4-4a85-b1d9-acaed6f9f194",
   "metadata": {},
   "outputs": [],
   "source": []
  },
  {
   "cell_type": "code",
   "execution_count": null,
   "id": "03f9efbf-e2f4-41eb-a3db-6f60aa0bb483",
   "metadata": {
    "tags": []
   },
   "outputs": [],
   "source": []
  },
  {
   "cell_type": "markdown",
   "id": "7eaf2b5d-81af-4558-a3dd-f12a918b3534",
   "metadata": {
    "tags": []
   },
   "source": [
    "sa"
   ]
  },
  {
   "cell_type": "code",
   "execution_count": null,
   "id": "cf82a308-cbec-48a8-af2d-de2496949e17",
   "metadata": {},
   "outputs": [],
   "source": []
  }
 ],
 "metadata": {
  "kernelspec": {
   "display_name": "Python",
   "language": "python",
   "name": "conda-env-python-py"
  },
  "language_info": {
   "codemirror_mode": {
    "name": "ipython",
    "version": 3
   },
   "file_extension": ".py",
   "mimetype": "text/x-python",
   "name": "python",
   "nbconvert_exporter": "python",
   "pygments_lexer": "ipython3",
   "version": "3.7.12"
  }
 },
 "nbformat": 4,
 "nbformat_minor": 5
}
